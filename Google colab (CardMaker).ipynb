{
  "cells": [
    {
      "attachments": {},
      "cell_type": "markdown",
      "id": "3dc90be3",
      "metadata": {
        "id": "3dc90be3"
      },
      "source": [
        "## **How to use it**\n",
        "1. <==== Import your excel table to the file menu\n",
        "2. Click in \"Run CardMaker\"\n",
        "3. Use the code as explained on my [Github](https://github.com/viniciusdutra314/CardMaker)\n",
        "4. The code will generate an \"audios.zip\", you need to open it and past these audios file into the collection.media (example of directory C:\\Users\\dutra\\AppData\\Roaming\\Anki2\\Dutra\\collection.media)\n",
        "5. You also need to download and open the \"nomeofthetable.apkg\" file which is an anki deck"
      ]
    },
    {
      "attachments": {},
      "cell_type": "markdown",
      "id": "94e9f0bc",
      "metadata": {},
      "source": [
        "## **Run CardMaker**"
      ]
    },
    {
      "cell_type": "code",
      "execution_count": 11,
      "id": "586b31b4",
      "metadata": {
        "cellView": "form",
        "id": "586b31b4",
        "scrolled": true
      },
      "outputs": [
        {
          "name": "stdout",
          "output_type": "stream",
          "text": [
            "Usando a tabela \u001b[32mspeaking-example.xlsx\u001b[0m\n",
            "\u001b[34mp=pronunciation \u001b[31m s=speaking\u001b[32m w=writing\u001b[33m v=vocabulary\u001b[0m\n",
            "Traduzindo...(1/2)\n"
          ]
        },
        {
          "ename": "KeyboardInterrupt",
          "evalue": "",
          "output_type": "error",
          "traceback": [
            "\u001b[1;31m---------------------------------------------------------------------------\u001b[0m",
            "\u001b[1;31mKeyboardInterrupt\u001b[0m                         Traceback (most recent call last)",
            "File \u001b[1;32mD:\\GitHub\\CardMaker-Pro\\CardMaker.py:110\u001b[0m\n\u001b[0;32m    108\u001b[0m check_table[\u001b[39m\"\u001b[39m\u001b[39mA\u001b[39m\u001b[39m\"\u001b[39m\u001b[39m+\u001b[39m\u001b[39mstr\u001b[39m(i\u001b[39m+\u001b[39m\u001b[39m2\u001b[39m)]\u001b[39m=\u001b[39mphrases[i]\n\u001b[0;32m    109\u001b[0m check_table[\u001b[39m\"\u001b[39m\u001b[39mB\u001b[39m\u001b[39m\"\u001b[39m\u001b[39m+\u001b[39m\u001b[39mstr\u001b[39m(i\u001b[39m+\u001b[39m\u001b[39m2\u001b[39m)]\u001b[39m=\u001b[39mtranslated_phrases[i]\n\u001b[1;32m--> 110\u001b[0m check_table[\u001b[39m\"\u001b[39m\u001b[39mC\u001b[39m\u001b[39m\"\u001b[39m\u001b[39m+\u001b[39m\u001b[39mstr\u001b[39m(i\u001b[39m+\u001b[39m\u001b[39m2\u001b[39m)]\u001b[39m=\u001b[39mwords[i] \u001b[39mif\u001b[39;00m cardtype\u001b[39m==\u001b[39m\u001b[39m\"\u001b[39m\u001b[39mv\u001b[39m\u001b[39m\"\u001b[39m \u001b[39melse\u001b[39;00m chatgpt_copy_n_past(i)\n\u001b[0;32m    111\u001b[0m \u001b[39mif\u001b[39;00m cardtype\u001b[39m==\u001b[39m\u001b[39m\"\u001b[39m\u001b[39mv\u001b[39m\u001b[39m\"\u001b[39m:\n\u001b[0;32m    112\u001b[0m   check_table[\u001b[39m\"\u001b[39m\u001b[39mD\u001b[39m\u001b[39m\"\u001b[39m\u001b[39m+\u001b[39m\u001b[39mstr\u001b[39m(i\u001b[39m+\u001b[39m\u001b[39m2\u001b[39m)]\u001b[39m=\u001b[39mtranslated_words[i]\n",
            "File \u001b[1;32mD:\\GitHub\\CardMaker-Pro\\CardMaker.py:105\u001b[0m, in \u001b[0;36mchatgpt_copy_n_past\u001b[1;34m(i)\u001b[0m\n\u001b[0;32m    103\u001b[0m   \u001b[39mreturn\u001b[39;00m translate(\u001b[39m\"\u001b[39m\u001b[39mExplain what this word\u001b[39m\u001b[39m\"\u001b[39m) \u001b[39m+\u001b[39m\u001b[39mf\u001b[39m\u001b[39m\"\u001b[39m\u001b[39m_\u001b[39m\u001b[39m{\u001b[39;00mwords[i]\u001b[39m}\u001b[39;00m\u001b[39m_\u001b[39m\u001b[39m\"\u001b[39m \u001b[39m+\u001b[39m translate(\u001b[39m\"\u001b[39m\u001b[39mmeans in this phrase and also in general\u001b[39m\u001b[39m\"\u001b[39m) \u001b[39m+\u001b[39m \u001b[39mf\u001b[39m\u001b[39m\"\u001b[39m\u001b[39m_\u001b[39m\u001b[39m{\u001b[39;00mphrases[i]\u001b[39m}\u001b[39;00m\u001b[39m_\u001b[39m\u001b[39m\"\u001b[39m\n\u001b[0;32m    104\u001b[0m \u001b[39melse\u001b[39;00m:\n\u001b[1;32m--> 105\u001b[0m   \u001b[39mreturn\u001b[39;00m translate(\u001b[39m\"\u001b[39;49m\u001b[39mTranslate this phrase to my mother tongue and explain is meaning\u001b[39;49m\u001b[39m\"\u001b[39;49m) \u001b[39m+\u001b[39mphrases[i]\n",
            "File \u001b[1;32mD:\\GitHub\\CardMaker-Pro\\CardMaker.py:16\u001b[0m, in \u001b[0;36mtranslate\u001b[1;34m(message, source)\u001b[0m\n\u001b[0;32m     14\u001b[0m \u001b[39mdef\u001b[39;00m \u001b[39mtranslate\u001b[39m(message,source\u001b[39m=\u001b[39m\u001b[39m\"\u001b[39m\u001b[39men\u001b[39m\u001b[39m\"\u001b[39m):\n\u001b[0;32m     15\u001b[0m   \u001b[39mglobal\u001b[39;00m chosen_language\n\u001b[1;32m---> 16\u001b[0m   \u001b[39mreturn\u001b[39;00m translator\u001b[39m.\u001b[39;49mtranslate(message, src\u001b[39m=\u001b[39;49msource,dest\u001b[39m=\u001b[39;49mchosen_language)\u001b[39m.\u001b[39mtext\n",
            "File \u001b[1;32md:\\GitHub\\CardMaker-Pro\\.venv\\Lib\\site-packages\\googletrans\\client.py:210\u001b[0m, in \u001b[0;36mTranslator.translate\u001b[1;34m(self, text, dest, src, **kwargs)\u001b[0m\n\u001b[0;32m    207\u001b[0m     \u001b[39mreturn\u001b[39;00m result\n\u001b[0;32m    209\u001b[0m origin \u001b[39m=\u001b[39m text\n\u001b[1;32m--> 210\u001b[0m data, response \u001b[39m=\u001b[39m \u001b[39mself\u001b[39;49m\u001b[39m.\u001b[39;49m_translate(text, dest, src, kwargs)\n\u001b[0;32m    212\u001b[0m \u001b[39m# this code will be updated when the format is changed.\u001b[39;00m\n\u001b[0;32m    213\u001b[0m translated \u001b[39m=\u001b[39m \u001b[39m'\u001b[39m\u001b[39m'\u001b[39m\u001b[39m.\u001b[39mjoin([d[\u001b[39m0\u001b[39m] \u001b[39mif\u001b[39;00m d[\u001b[39m0\u001b[39m] \u001b[39melse\u001b[39;00m \u001b[39m'\u001b[39m\u001b[39m'\u001b[39m \u001b[39mfor\u001b[39;00m d \u001b[39min\u001b[39;00m data[\u001b[39m0\u001b[39m]])\n",
            "File \u001b[1;32md:\\GitHub\\CardMaker-Pro\\.venv\\Lib\\site-packages\\googletrans\\client.py:108\u001b[0m, in \u001b[0;36mTranslator._translate\u001b[1;34m(self, text, dest, src, override)\u001b[0m\n\u001b[0;32m    104\u001b[0m params \u001b[39m=\u001b[39m utils\u001b[39m.\u001b[39mbuild_params(client\u001b[39m=\u001b[39m\u001b[39mself\u001b[39m\u001b[39m.\u001b[39mclient_type, query\u001b[39m=\u001b[39mtext, src\u001b[39m=\u001b[39msrc, dest\u001b[39m=\u001b[39mdest,\n\u001b[0;32m    105\u001b[0m                             token\u001b[39m=\u001b[39mtoken, override\u001b[39m=\u001b[39moverride)\n\u001b[0;32m    107\u001b[0m url \u001b[39m=\u001b[39m urls\u001b[39m.\u001b[39mTRANSLATE\u001b[39m.\u001b[39mformat(host\u001b[39m=\u001b[39m\u001b[39mself\u001b[39m\u001b[39m.\u001b[39m_pick_service_url())\n\u001b[1;32m--> 108\u001b[0m r \u001b[39m=\u001b[39m \u001b[39mself\u001b[39;49m\u001b[39m.\u001b[39;49mclient\u001b[39m.\u001b[39;49mget(url, params\u001b[39m=\u001b[39;49mparams)\n\u001b[0;32m    110\u001b[0m \u001b[39mif\u001b[39;00m r\u001b[39m.\u001b[39mstatus_code \u001b[39m==\u001b[39m \u001b[39m200\u001b[39m:\n\u001b[0;32m    111\u001b[0m     data \u001b[39m=\u001b[39m utils\u001b[39m.\u001b[39mformat_json(r\u001b[39m.\u001b[39mtext)\n",
            "File \u001b[1;32md:\\GitHub\\CardMaker-Pro\\.venv\\Lib\\site-packages\\httpx\\_client.py:755\u001b[0m, in \u001b[0;36mClient.get\u001b[1;34m(self, url, params, headers, cookies, auth, allow_redirects, timeout)\u001b[0m\n\u001b[0;32m    744\u001b[0m \u001b[39mdef\u001b[39;00m \u001b[39mget\u001b[39m(\n\u001b[0;32m    745\u001b[0m     \u001b[39mself\u001b[39m,\n\u001b[0;32m    746\u001b[0m     url: URLTypes,\n\u001b[1;32m   (...)\u001b[0m\n\u001b[0;32m    753\u001b[0m     timeout: typing\u001b[39m.\u001b[39mUnion[TimeoutTypes, UnsetType] \u001b[39m=\u001b[39m UNSET,\n\u001b[0;32m    754\u001b[0m ) \u001b[39m-\u001b[39m\u001b[39m>\u001b[39m Response:\n\u001b[1;32m--> 755\u001b[0m     \u001b[39mreturn\u001b[39;00m \u001b[39mself\u001b[39;49m\u001b[39m.\u001b[39;49mrequest(\n\u001b[0;32m    756\u001b[0m         \u001b[39m\"\u001b[39;49m\u001b[39mGET\u001b[39;49m\u001b[39m\"\u001b[39;49m,\n\u001b[0;32m    757\u001b[0m         url,\n\u001b[0;32m    758\u001b[0m         params\u001b[39m=\u001b[39;49mparams,\n\u001b[0;32m    759\u001b[0m         headers\u001b[39m=\u001b[39;49mheaders,\n\u001b[0;32m    760\u001b[0m         cookies\u001b[39m=\u001b[39;49mcookies,\n\u001b[0;32m    761\u001b[0m         auth\u001b[39m=\u001b[39;49mauth,\n\u001b[0;32m    762\u001b[0m         allow_redirects\u001b[39m=\u001b[39;49mallow_redirects,\n\u001b[0;32m    763\u001b[0m         timeout\u001b[39m=\u001b[39;49mtimeout,\n\u001b[0;32m    764\u001b[0m     )\n",
            "File \u001b[1;32md:\\GitHub\\CardMaker-Pro\\.venv\\Lib\\site-packages\\httpx\\_client.py:600\u001b[0m, in \u001b[0;36mClient.request\u001b[1;34m(self, method, url, data, files, json, params, headers, cookies, auth, allow_redirects, timeout)\u001b[0m\n\u001b[0;32m    575\u001b[0m \u001b[39mdef\u001b[39;00m \u001b[39mrequest\u001b[39m(\n\u001b[0;32m    576\u001b[0m     \u001b[39mself\u001b[39m,\n\u001b[0;32m    577\u001b[0m     method: \u001b[39mstr\u001b[39m,\n\u001b[1;32m   (...)\u001b[0m\n\u001b[0;32m    588\u001b[0m     timeout: typing\u001b[39m.\u001b[39mUnion[TimeoutTypes, UnsetType] \u001b[39m=\u001b[39m UNSET,\n\u001b[0;32m    589\u001b[0m ) \u001b[39m-\u001b[39m\u001b[39m>\u001b[39m Response:\n\u001b[0;32m    590\u001b[0m     request \u001b[39m=\u001b[39m \u001b[39mself\u001b[39m\u001b[39m.\u001b[39mbuild_request(\n\u001b[0;32m    591\u001b[0m         method\u001b[39m=\u001b[39mmethod,\n\u001b[0;32m    592\u001b[0m         url\u001b[39m=\u001b[39murl,\n\u001b[1;32m   (...)\u001b[0m\n\u001b[0;32m    598\u001b[0m         cookies\u001b[39m=\u001b[39mcookies,\n\u001b[0;32m    599\u001b[0m     )\n\u001b[1;32m--> 600\u001b[0m     \u001b[39mreturn\u001b[39;00m \u001b[39mself\u001b[39;49m\u001b[39m.\u001b[39;49msend(\n\u001b[0;32m    601\u001b[0m         request, auth\u001b[39m=\u001b[39;49mauth, allow_redirects\u001b[39m=\u001b[39;49mallow_redirects, timeout\u001b[39m=\u001b[39;49mtimeout,\n\u001b[0;32m    602\u001b[0m     )\n",
            "File \u001b[1;32md:\\GitHub\\CardMaker-Pro\\.venv\\Lib\\site-packages\\httpx\\_client.py:620\u001b[0m, in \u001b[0;36mClient.send\u001b[1;34m(self, request, stream, auth, allow_redirects, timeout)\u001b[0m\n\u001b[0;32m    616\u001b[0m timeout \u001b[39m=\u001b[39m \u001b[39mself\u001b[39m\u001b[39m.\u001b[39mtimeout \u001b[39mif\u001b[39;00m \u001b[39misinstance\u001b[39m(timeout, UnsetType) \u001b[39melse\u001b[39;00m Timeout(timeout)\n\u001b[0;32m    618\u001b[0m auth \u001b[39m=\u001b[39m \u001b[39mself\u001b[39m\u001b[39m.\u001b[39mbuild_auth(request, auth)\n\u001b[1;32m--> 620\u001b[0m response \u001b[39m=\u001b[39m \u001b[39mself\u001b[39;49m\u001b[39m.\u001b[39;49msend_handling_redirects(\n\u001b[0;32m    621\u001b[0m     request, auth\u001b[39m=\u001b[39;49mauth, timeout\u001b[39m=\u001b[39;49mtimeout, allow_redirects\u001b[39m=\u001b[39;49mallow_redirects,\n\u001b[0;32m    622\u001b[0m )\n\u001b[0;32m    624\u001b[0m \u001b[39mif\u001b[39;00m \u001b[39mnot\u001b[39;00m stream:\n\u001b[0;32m    625\u001b[0m     \u001b[39mtry\u001b[39;00m:\n",
            "File \u001b[1;32md:\\GitHub\\CardMaker-Pro\\.venv\\Lib\\site-packages\\httpx\\_client.py:647\u001b[0m, in \u001b[0;36mClient.send_handling_redirects\u001b[1;34m(self, request, auth, timeout, allow_redirects, history)\u001b[0m\n\u001b[0;32m    644\u001b[0m \u001b[39mif\u001b[39;00m \u001b[39mlen\u001b[39m(history) \u001b[39m>\u001b[39m \u001b[39mself\u001b[39m\u001b[39m.\u001b[39mmax_redirects:\n\u001b[0;32m    645\u001b[0m     \u001b[39mraise\u001b[39;00m TooManyRedirects()\n\u001b[1;32m--> 647\u001b[0m response \u001b[39m=\u001b[39m \u001b[39mself\u001b[39;49m\u001b[39m.\u001b[39;49msend_handling_auth(\n\u001b[0;32m    648\u001b[0m     request, auth\u001b[39m=\u001b[39;49mauth, timeout\u001b[39m=\u001b[39;49mtimeout, history\u001b[39m=\u001b[39;49mhistory\n\u001b[0;32m    649\u001b[0m )\n\u001b[0;32m    650\u001b[0m response\u001b[39m.\u001b[39mhistory \u001b[39m=\u001b[39m \u001b[39mlist\u001b[39m(history)\n\u001b[0;32m    652\u001b[0m \u001b[39mif\u001b[39;00m \u001b[39mnot\u001b[39;00m response\u001b[39m.\u001b[39mis_redirect:\n",
            "File \u001b[1;32md:\\GitHub\\CardMaker-Pro\\.venv\\Lib\\site-packages\\httpx\\_client.py:684\u001b[0m, in \u001b[0;36mClient.send_handling_auth\u001b[1;34m(self, request, history, auth, timeout)\u001b[0m\n\u001b[0;32m    682\u001b[0m request \u001b[39m=\u001b[39m \u001b[39mnext\u001b[39m(auth_flow)\n\u001b[0;32m    683\u001b[0m \u001b[39mwhile\u001b[39;00m \u001b[39mTrue\u001b[39;00m:\n\u001b[1;32m--> 684\u001b[0m     response \u001b[39m=\u001b[39m \u001b[39mself\u001b[39;49m\u001b[39m.\u001b[39;49msend_single_request(request, timeout)\n\u001b[0;32m    685\u001b[0m     \u001b[39mif\u001b[39;00m auth\u001b[39m.\u001b[39mrequires_response_body:\n\u001b[0;32m    686\u001b[0m         response\u001b[39m.\u001b[39mread()\n",
            "File \u001b[1;32md:\\GitHub\\CardMaker-Pro\\.venv\\Lib\\site-packages\\httpx\\_client.py:714\u001b[0m, in \u001b[0;36mClient.send_single_request\u001b[1;34m(self, request, timeout)\u001b[0m\n\u001b[0;32m    705\u001b[0m transport \u001b[39m=\u001b[39m \u001b[39mself\u001b[39m\u001b[39m.\u001b[39mtransport_for_url(request\u001b[39m.\u001b[39murl)\n\u001b[0;32m    707\u001b[0m \u001b[39mtry\u001b[39;00m:\n\u001b[0;32m    708\u001b[0m     (\n\u001b[0;32m    709\u001b[0m         http_version,\n\u001b[0;32m    710\u001b[0m         status_code,\n\u001b[0;32m    711\u001b[0m         reason_phrase,\n\u001b[0;32m    712\u001b[0m         headers,\n\u001b[0;32m    713\u001b[0m         stream,\n\u001b[1;32m--> 714\u001b[0m     ) \u001b[39m=\u001b[39m transport\u001b[39m.\u001b[39;49mrequest(\n\u001b[0;32m    715\u001b[0m         request\u001b[39m.\u001b[39;49mmethod\u001b[39m.\u001b[39;49mencode(),\n\u001b[0;32m    716\u001b[0m         request\u001b[39m.\u001b[39;49murl\u001b[39m.\u001b[39;49mraw,\n\u001b[0;32m    717\u001b[0m         headers\u001b[39m=\u001b[39;49mrequest\u001b[39m.\u001b[39;49mheaders\u001b[39m.\u001b[39;49mraw,\n\u001b[0;32m    718\u001b[0m         stream\u001b[39m=\u001b[39;49mrequest\u001b[39m.\u001b[39;49mstream,\n\u001b[0;32m    719\u001b[0m         timeout\u001b[39m=\u001b[39;49mtimeout\u001b[39m.\u001b[39;49mas_dict(),\n\u001b[0;32m    720\u001b[0m     )\n\u001b[0;32m    721\u001b[0m \u001b[39mexcept\u001b[39;00m HTTPError \u001b[39mas\u001b[39;00m exc:\n\u001b[0;32m    722\u001b[0m     \u001b[39m# Add the original request to any HTTPError unless\u001b[39;00m\n\u001b[0;32m    723\u001b[0m     \u001b[39m# there'a already a request attached in the case of\u001b[39;00m\n\u001b[0;32m    724\u001b[0m     \u001b[39m# a ProxyError.\u001b[39;00m\n\u001b[0;32m    725\u001b[0m     \u001b[39mif\u001b[39;00m exc\u001b[39m.\u001b[39m_request \u001b[39mis\u001b[39;00m \u001b[39mNone\u001b[39;00m:\n",
            "File \u001b[1;32md:\\GitHub\\CardMaker-Pro\\.venv\\Lib\\site-packages\\httpcore\\_sync\\connection_pool.py:152\u001b[0m, in \u001b[0;36mSyncConnectionPool.request\u001b[1;34m(self, method, url, headers, stream, timeout)\u001b[0m\n\u001b[0;32m    149\u001b[0m         logger\u001b[39m.\u001b[39mtrace(\u001b[39m\"\u001b[39m\u001b[39mreuse connection=\u001b[39m\u001b[39m%r\u001b[39;00m\u001b[39m\"\u001b[39m, connection)\n\u001b[0;32m    151\u001b[0m \u001b[39mtry\u001b[39;00m:\n\u001b[1;32m--> 152\u001b[0m     response \u001b[39m=\u001b[39m connection\u001b[39m.\u001b[39;49mrequest(\n\u001b[0;32m    153\u001b[0m         method, url, headers\u001b[39m=\u001b[39;49mheaders, stream\u001b[39m=\u001b[39;49mstream, timeout\u001b[39m=\u001b[39;49mtimeout\n\u001b[0;32m    154\u001b[0m     )\n\u001b[0;32m    155\u001b[0m \u001b[39mexcept\u001b[39;00m NewConnectionRequired:\n\u001b[0;32m    156\u001b[0m     connection \u001b[39m=\u001b[39m \u001b[39mNone\u001b[39;00m\n",
            "File \u001b[1;32md:\\GitHub\\CardMaker-Pro\\.venv\\Lib\\site-packages\\httpcore\\_sync\\connection.py:65\u001b[0m, in \u001b[0;36mSyncHTTPConnection.request\u001b[1;34m(self, method, url, headers, stream, timeout)\u001b[0m\n\u001b[0;32m     61\u001b[0m     \u001b[39mif\u001b[39;00m \u001b[39mnot\u001b[39;00m \u001b[39mself\u001b[39m\u001b[39m.\u001b[39msocket:\n\u001b[0;32m     62\u001b[0m         logger\u001b[39m.\u001b[39mtrace(\n\u001b[0;32m     63\u001b[0m             \u001b[39m\"\u001b[39m\u001b[39mopen_socket origin=\u001b[39m\u001b[39m%r\u001b[39;00m\u001b[39m timeout=\u001b[39m\u001b[39m%r\u001b[39;00m\u001b[39m\"\u001b[39m, \u001b[39mself\u001b[39m\u001b[39m.\u001b[39morigin, timeout\n\u001b[0;32m     64\u001b[0m         )\n\u001b[1;32m---> 65\u001b[0m         \u001b[39mself\u001b[39m\u001b[39m.\u001b[39msocket \u001b[39m=\u001b[39m \u001b[39mself\u001b[39;49m\u001b[39m.\u001b[39;49m_open_socket(timeout)\n\u001b[0;32m     66\u001b[0m     \u001b[39mself\u001b[39m\u001b[39m.\u001b[39m_create_connection(\u001b[39mself\u001b[39m\u001b[39m.\u001b[39msocket)\n\u001b[0;32m     67\u001b[0m \u001b[39melif\u001b[39;00m \u001b[39mself\u001b[39m\u001b[39m.\u001b[39mstate \u001b[39min\u001b[39;00m (ConnectionState\u001b[39m.\u001b[39mREADY, ConnectionState\u001b[39m.\u001b[39mIDLE):\n",
            "File \u001b[1;32md:\\GitHub\\CardMaker-Pro\\.venv\\Lib\\site-packages\\httpcore\\_sync\\connection.py:85\u001b[0m, in \u001b[0;36mSyncHTTPConnection._open_socket\u001b[1;34m(self, timeout)\u001b[0m\n\u001b[0;32m     83\u001b[0m ssl_context \u001b[39m=\u001b[39m \u001b[39mself\u001b[39m\u001b[39m.\u001b[39mssl_context \u001b[39mif\u001b[39;00m scheme \u001b[39m==\u001b[39m \u001b[39mb\u001b[39m\u001b[39m\"\u001b[39m\u001b[39mhttps\u001b[39m\u001b[39m\"\u001b[39m \u001b[39melse\u001b[39;00m \u001b[39mNone\u001b[39;00m\n\u001b[0;32m     84\u001b[0m \u001b[39mtry\u001b[39;00m:\n\u001b[1;32m---> 85\u001b[0m     \u001b[39mreturn\u001b[39;00m \u001b[39mself\u001b[39;49m\u001b[39m.\u001b[39;49mbackend\u001b[39m.\u001b[39;49mopen_tcp_stream(\n\u001b[0;32m     86\u001b[0m         hostname, port, ssl_context, timeout\n\u001b[0;32m     87\u001b[0m     )\n\u001b[0;32m     88\u001b[0m \u001b[39mexcept\u001b[39;00m \u001b[39mException\u001b[39;00m:\n\u001b[0;32m     89\u001b[0m     \u001b[39mself\u001b[39m\u001b[39m.\u001b[39mconnect_failed \u001b[39m=\u001b[39m \u001b[39mTrue\u001b[39;00m\n",
            "File \u001b[1;32md:\\GitHub\\CardMaker-Pro\\.venv\\Lib\\site-packages\\httpcore\\_backends\\sync.py:134\u001b[0m, in \u001b[0;36mSyncBackend.open_tcp_stream\u001b[1;34m(self, hostname, port, ssl_context, timeout)\u001b[0m\n\u001b[0;32m    131\u001b[0m exc_map \u001b[39m=\u001b[39m {socket\u001b[39m.\u001b[39mtimeout: ConnectTimeout, socket\u001b[39m.\u001b[39merror: ConnectError}\n\u001b[0;32m    133\u001b[0m \u001b[39mwith\u001b[39;00m map_exceptions(exc_map):\n\u001b[1;32m--> 134\u001b[0m     sock \u001b[39m=\u001b[39m socket\u001b[39m.\u001b[39;49mcreate_connection(address, connect_timeout)\n\u001b[0;32m    135\u001b[0m     \u001b[39mif\u001b[39;00m ssl_context \u001b[39mis\u001b[39;00m \u001b[39mnot\u001b[39;00m \u001b[39mNone\u001b[39;00m:\n\u001b[0;32m    136\u001b[0m         sock \u001b[39m=\u001b[39m ssl_context\u001b[39m.\u001b[39mwrap_socket(\n\u001b[0;32m    137\u001b[0m             sock, server_hostname\u001b[39m=\u001b[39mhostname\u001b[39m.\u001b[39mdecode(\u001b[39m\"\u001b[39m\u001b[39mascii\u001b[39m\u001b[39m\"\u001b[39m)\n\u001b[0;32m    138\u001b[0m         )\n",
            "File \u001b[1;32m~\\AppData\\Local\\Programs\\Python\\Python311\\Lib\\socket.py:836\u001b[0m, in \u001b[0;36mcreate_connection\u001b[1;34m(address, timeout, source_address, all_errors)\u001b[0m\n\u001b[0;32m    834\u001b[0m \u001b[39mif\u001b[39;00m source_address:\n\u001b[0;32m    835\u001b[0m     sock\u001b[39m.\u001b[39mbind(source_address)\n\u001b[1;32m--> 836\u001b[0m sock\u001b[39m.\u001b[39mconnect(sa)\n\u001b[0;32m    837\u001b[0m \u001b[39m# Break explicitly a reference cycle\u001b[39;00m\n\u001b[0;32m    838\u001b[0m exceptions\u001b[39m.\u001b[39mclear()\n",
            "\u001b[1;31mKeyboardInterrupt\u001b[0m: "
          ]
        }
      ],
      "source": [
        "%run CardMaker.py"
      ]
    }
  ],
  "metadata": {
    "colab": {
      "collapsed_sections": [
        "2a40b012"
      ],
      "provenance": []
    },
    "kernelspec": {
      "display_name": "Python 3 (ipykernel)",
      "language": "python",
      "name": "python3"
    },
    "language_info": {
      "codemirror_mode": {
        "name": "ipython",
        "version": 3
      },
      "file_extension": ".py",
      "mimetype": "text/x-python",
      "name": "python",
      "nbconvert_exporter": "python",
      "pygments_lexer": "ipython3",
      "version": "3.11.1"
    }
  },
  "nbformat": 4,
  "nbformat_minor": 5
}
