{
  "cells": [
    {
      "cell_type": "markdown",
      "source": [
        "## Click here to import the dependencies"
      ],
      "metadata": {
        "id": "sNaaHVVeqixY"
      },
      "id": "sNaaHVVeqixY"
    },
    {
      "cell_type": "code",
      "source": [
        "!wget -P /boot/ \"https://raw.githubusercontent.com/viniciusdutra314/Anki-CardMaker/main/requirements.txt\"\n",
        "!pip install -r /boot/requirements.txt\n",
        "!wget -P /boot/ \"https://raw.githubusercontent.com/viniciusdutra314/Anki-CardMaker/main/CardMaker.py\""
      ],
      "metadata": {
        "id": "RCdIKB38qh-A"
      },
      "id": "RCdIKB38qh-A",
      "execution_count": null,
      "outputs": []
    },
    {
      "cell_type": "markdown",
      "id": "3dc90be3",
      "metadata": {
        "id": "3dc90be3"
      },
      "source": [
        "## **How to use it**\n",
        "1. <==== Import your excel table to the file menu\n",
        "2. Click in \"Run CardMaker\"\n",
        "3. Use the code as explained on my [Github](https://github.com/viniciusdutra314/CardMaker)\n",
        "4. The code will generate an \"audios.zip\", you need to open it and past these audios file into the collection.media (example of directory C:\\Users\\dutra\\AppData\\Roaming\\Anki2\\Dutra\\collection.media)\n",
        "5. You also need to download and open the \"nomeofthetable.apkg\" file which is an anki deck"
      ]
    },
    {
      "cell_type": "markdown",
      "id": "94e9f0bc",
      "metadata": {
        "id": "94e9f0bc"
      },
      "source": [
        "## **Run CardMaker**"
      ]
    },
    {
      "cell_type": "code",
      "execution_count": null,
      "id": "586b31b4",
      "metadata": {
        "cellView": "form",
        "id": "586b31b4",
        "scrolled": true
      },
      "outputs": [],
      "source": [
        "%run /boot/CardMaker.py"
      ]
    }
  ],
  "metadata": {
    "colab": {
      "collapsed_sections": [
        "2a40b012"
      ],
      "provenance": []
    },
    "kernelspec": {
      "display_name": "Python 3 (ipykernel)",
      "language": "python",
      "name": "python3"
    },
    "language_info": {
      "codemirror_mode": {
        "name": "ipython",
        "version": 3
      },
      "file_extension": ".py",
      "mimetype": "text/x-python",
      "name": "python",
      "nbconvert_exporter": "python",
      "pygments_lexer": "ipython3",
      "version": "3.11.1"
    }
  },
  "nbformat": 4,
  "nbformat_minor": 5
}